{
 "cells": [
  {
   "cell_type": "markdown",
   "metadata": {},
   "source": [
    "# Main script"
   ]
  },
  {
   "cell_type": "markdown",
   "metadata": {},
   "source": [
    "The Code is created based on the method described in the following paper\n",
    "\n",
    "[1] \"Deep Optimization Prior for THz Model Parameter Estimation\", T.M. Wong, H. Bauermeister, M. Kahl, P. Haring Bolivar, M. Moeller, A. Kolb,\n",
    "Winter Conference on Applications of Computer Vision (WACV) 2022.\n",
    "\n",
    "If you use this code in your scientific publication, please cite the mentioned paper.\n",
    "The code and the algorithm are for non-comercial use only.\n",
    "\n",
    "For other details, please visit website https://github.com/tak-wong/Deep-Optimization-Prior"
   ]
  },
  {
   "cell_type": "code",
   "execution_count": null,
   "metadata": {},
   "outputs": [],
   "source": [
    "from MoAE import *"
   ]
  },
  {
   "cell_type": "code",
   "execution_count": null,
   "metadata": {},
   "outputs": [],
   "source": [
    "def get_dataset_filename(dataset_name):\n",
    "    dataset_filename = ''\n",
    "    if (dataset_name.lower() == 'metalpcb'):\n",
    "        dataset_filename = 'MetalPCB_91x446x446.mat'\n",
    "        \n",
    "    if (dataset_name.startswith('MetalPCB_AWGN')):\n",
    "        dataset_filename = \"MetalPCB_AWGN/{}_91x446x446.mat\".format(dataset_name)\n",
    "        \n",
    "    if (dataset_name.startswith('MetalPCB_ShotNoise')):\n",
    "        dataset_filename = \"MetalPCB_ShotNoise/{}_91x446x446.mat\".format(dataset_name)\n",
    "        \n",
    "    if (dataset_name.startswith('SynthUSAF_AWGN')):\n",
    "        dataset_filename = \"SynthUSAF_AWGN/{}_91x446x446.mat\".format(dataset_name)\n",
    "        \n",
    "    if (dataset_name.startswith('SynthUSAF_ShotNoise')):\n",
    "        dataset_filename = \"SynthUSAF_ShotNoise/{}_91x446x446.mat\".format(dataset_name)\n",
    "        \n",
    "    if (dataset_name.startswith('SynthObj_AWGN')):\n",
    "        dataset_filename = \"SynthObj_AWGN/{}_91x446x446.mat\".format(dataset_name)\n",
    "        \n",
    "    if (dataset_name.startswith('SynthObj_ShotNoise')):\n",
    "        dataset_filename = \"SynthObj_ShotNoise/{}_91x446x446.mat\".format(dataset_name)\n",
    "        \n",
    "    return dataset_filename"
   ]
  },
  {
   "cell_type": "markdown",
   "metadata": {},
   "source": [
    "# Example 1: MetalPCB"
   ]
  },
  {
   "cell_type": "code",
   "execution_count": null,
   "metadata": {},
   "outputs": [],
   "source": [
    "if __name__ == '__main__':\n",
    "    seed = 0\n",
    "    lr = 0.01\n",
    "    epochs = 1200\n",
    "    dataset_name = 'metalpcb'\n",
    "    dataset_filename = get_dataset_filename(dataset_name)\n",
    "    dataset_path = './dataset'\n",
    "    dest_path = './result'\n",
    "    verbose = True\n",
    "    debug = True\n",
    "    \n",
    "    hp = hyperparameter_unet_thz(use_seed = seed, learning_rate = lr, epochs = epochs)\n",
    "    optimizer = autoencoder_unet_thz(dataset_name, dataset_filename, dataset_path, dest_path, hp, verbose)\n",
    "    \n",
    "    if (debug):\n",
    "        optimizer.RUNS = 1\n",
    "        optimizer.INTERVAL_PLOT_LOSS = 100\n",
    "        optimizer.INTERVAL_SAVE_LOSS = 100\n",
    "        optimizer.INTERVAL_PLOT_LR = 100\n",
    "        optimizer.INTERVAL_SAVE_LR = 100\n",
    "        optimizer.INTERVAL_PLOT_PARAMETERS = 100\n",
    "        optimizer.INTERVAL_SAVE_PARAMETERS = 100\n",
    "        optimizer.INTERVAL_PLOT_LOSSMAP = 100\n",
    "        optimizer.INTERVAL_SAVE_LOSSMAP = 100\n",
    "        optimizer.INTERVAL_PLOT_PIXEL = 100\n",
    "        optimizer.INTERVAL_SAVE_PIXEL = 100\n",
    "    optimizer.train()"
   ]
  },
  {
   "cell_type": "code",
   "execution_count": null,
   "metadata": {},
   "outputs": [],
   "source": [
    "    seed = 0\n",
    "    lr = 0.01\n",
    "    epochs = 1200\n",
    "    dataset_name = 'MetalPCB_AWGN_n20db'\n",
    "    dataset_filename = get_dataset_filename(dataset_name)\n",
    "    dataset_path = './dataset'\n",
    "    dest_path = './result'\n",
    "    verbose = True\n",
    "    debug = False\n",
    "    \n",
    "    hp = hyperparameter_nonet1st_thz(use_seed = seed, learning_rate = lr, epochs = epochs)\n",
    "    optimizer = autoencoder_nonet1st_thz(dataset_name, dataset_filename, dataset_path, dest_path, hp, verbose)\n",
    "\n",
    "    optimizer.train()"
   ]
  },
  {
   "cell_type": "markdown",
   "metadata": {},
   "source": [
    "# Example 2: SynthUSAF+ShotNoise"
   ]
  },
  {
   "cell_type": "code",
   "execution_count": null,
   "metadata": {},
   "outputs": [],
   "source": [
    "    lr = 0.01\n",
    "    epochs = 1200\n",
    "    dataset_name = 'SynthUSAF_ShotNoise_p10db'\n",
    "    dataset_filename = get_dataset_filename(dataset_name)\n",
    "    dataset_path = './dataset'\n",
    "    dest_path = './result'\n",
    "    verbose = True\n",
    "    debug = False\n",
    "    \n",
    "    hp = hyperparameter_nonet2nd_thz(use_seed = seed, learning_rate = lr, epochs = epochs)\n",
    "    optimizer = autoencoder_nonet2nd_thz(dataset_name, dataset_filename, dataset_path, dest_path, hp, verbose)\n",
    "    optimizer.train()"
   ]
  },
  {
   "cell_type": "markdown",
   "metadata": {},
   "source": [
    "# Example 3: SynthObj+AWGN"
   ]
  },
  {
   "cell_type": "code",
   "execution_count": null,
   "metadata": {},
   "outputs": [],
   "source": [
    "    lr = 0.01\n",
    "    epochs = 1200\n",
    "    dataset_name = 'SynthObj_AWGN_p0db'\n",
    "    dataset_filename = get_dataset_filename(dataset_name)\n",
    "    dataset_path = './dataset'\n",
    "    dest_path = './result'\n",
    "    verbose = True\n",
    "    debug = False\n",
    "    \n",
    "    hp = hyperparameter_ppae_thz(use_seed = seed, learning_rate = lr, epochs = epochs)\n",
    "    optimizer = autoencoder_ppae_thz(dataset_name, dataset_filename, dataset_path, dest_path, hp, verbose)\n",
    "    optimizer.train()"
   ]
  }
 ],
 "metadata": {
  "kernelspec": {
   "display_name": "Python 3",
   "language": "python",
   "name": "python3"
  },
  "language_info": {
   "codemirror_mode": {
    "name": "ipython",
    "version": 3
   },
   "file_extension": ".py",
   "mimetype": "text/x-python",
   "name": "python",
   "nbconvert_exporter": "python",
   "pygments_lexer": "ipython3",
   "version": "3.7.4"
  }
 },
 "nbformat": 4,
 "nbformat_minor": 4
}
